{
 "cells": [
  {
   "cell_type": "markdown",
   "id": "648df5ca",
   "metadata": {},
   "source": [
    "# Coursework 2 - Sentiment Analysis based on Emotions using Naïve Bayes\n",
    "\n",
    "Below are the steps and code for the classification of sentiment of emotions using Naïve Bayes.\n",
    "\n",
    "The data set that is used for the project is [Emotions dataset for NLP](https://www.kaggle.com/datasets/praveengovi/emotions-dataset-for-nlp)\n",
    "\n",
    "# Importing Required libraries\n",
    "\n",
    "The first step in formulating the solution to the problem is importing the **required libraries** that will be used while building the application."
   ]
  },
  {
   "cell_type": "code",
   "execution_count": 1,
   "id": "37200fd4",
   "metadata": {},
   "outputs": [
    {
     "name": "stderr",
     "output_type": "stream",
     "text": [
      "[nltk_data] Downloading package wordnet to\n",
      "[nltk_data]     C:\\Users\\DELL\\AppData\\Roaming\\nltk_data...\n",
      "[nltk_data]   Package wordnet is already up-to-date!\n",
      "[nltk_data] Downloading package stopwords to\n",
      "[nltk_data]     C:\\Users\\DELL\\AppData\\Roaming\\nltk_data...\n",
      "[nltk_data]   Package stopwords is already up-to-date!\n"
     ]
    },
    {
     "data": {
      "text/plain": [
       "True"
      ]
     },
     "execution_count": 1,
     "metadata": {},
     "output_type": "execute_result"
    }
   ],
   "source": [
    "import numpy as np\n",
    "import pandas as pd\n",
    "import re\n",
    "import string\n",
    "\n",
    "import sklearn.metrics as metrics\n",
    "from sklearn.feature_extraction.text import CountVectorizer\n",
    "from sklearn.metrics import ConfusionMatrixDisplay\n",
    "from sklearn.model_selection import train_test_split, GridSearchCV\n",
    "from sklearn.naive_bayes import MultinomialNB\n",
    "from sklearn.metrics import classification_report,confusion_matrix, accuracy_score\n",
    "\n",
    "import nltk\n",
    "from nltk.corpus import stopwords\n",
    "from nltk.tokenize import word_tokenize \n",
    "from nltk.tokenize import RegexpTokenizer\n",
    "\n",
    "nltk.download('wordnet')\n",
    "nltk.download('stopwords')"
   ]
  },
  {
   "cell_type": "markdown",
   "id": "a72bffcd",
   "metadata": {},
   "source": [
    "# Importing the Dataset\n",
    "\n",
    "Here we import the dataset which is stored in our local folder in txt file.\n",
    "\n",
    "The Emotion datset for NLP consists of 2 colums which contains sentences and their emotions."
   ]
  },
  {
   "cell_type": "code",
   "execution_count": 2,
   "id": "90e0cf5d",
   "metadata": {},
   "outputs": [
    {
     "name": "stdout",
     "output_type": "stream",
     "text": [
      "Total data: (20000, 2)\n"
     ]
    }
   ],
   "source": [
    "train_data = pd.read_csv('../20049006 Sakshi Gupta/dataset/train.txt',names=['sentence','emotion'],header=None, sep=';')\n",
    "test_data = pd.read_csv('../20049006 Sakshi Gupta/dataset/test.txt',names=['sentence','emotion'],header=None, sep=';')\n",
    "val_data= pd.read_csv('../20049006 Sakshi Gupta/dataset/val.txt',names=['sentence','emotion'],header=None, sep=';')\n",
    "df = pd.concat([train_data,test_data, val_data])\n",
    "print('Total data:',df.shape)"
   ]
  },
  {
   "cell_type": "markdown",
   "id": "bd29f91f",
   "metadata": {},
   "source": [
    "# Droping the duplicate data and re-indexing the data"
   ]
  },
  {
   "cell_type": "code",
   "execution_count": 3,
   "id": "f41c1af8",
   "metadata": {},
   "outputs": [
    {
     "data": {
      "text/plain": [
       "(19999, 2)"
      ]
     },
     "execution_count": 3,
     "metadata": {},
     "output_type": "execute_result"
    }
   ],
   "source": [
    "df = df.drop_duplicates(keep=\"first\") # Drop duplicated data and reindex the data\n",
    "df_reidx = df.reset_index(drop=True)\n",
    "df_reidx.shape"
   ]
  },
  {
   "cell_type": "markdown",
   "id": "d9b7726e",
   "metadata": {},
   "source": [
    "# Convert emotions to stressed and not-stressed labels"
   ]
  },
  {
   "cell_type": "code",
   "execution_count": 4,
   "id": "425db5d5",
   "metadata": {},
   "outputs": [],
   "source": [
    "'''\n",
    "convert the emotions to binary labels. love and joy emotions are \"not-stressed ==1\", \n",
    "and sadness, anger, fear, and surprise are \"stressed == 0\".\n",
    "'''\n",
    "df_reidx['label']=df_reidx['emotion'].replace({'joy': \"not-stressed\" , 'love': \"not-stressed\", \n",
    "                                   'sadness': \"stressed\", 'anger': \"stressed\", 'fear': \"stressed\",'surprise': \"stressed\"})"
   ]
  },
  {
   "cell_type": "code",
   "execution_count": 5,
   "id": "24718331",
   "metadata": {},
   "outputs": [
    {
     "data": {
      "text/plain": [
       "stressed        11598\n",
       "not-stressed     8401\n",
       "Name: label, dtype: int64"
      ]
     },
     "execution_count": 5,
     "metadata": {},
     "output_type": "execute_result"
    }
   ],
   "source": [
    "# check if pos and neg sentiments\n",
    "df_reidx.label.value_counts()"
   ]
  },
  {
   "cell_type": "code",
   "execution_count": 6,
   "id": "4ac271e6",
   "metadata": {},
   "outputs": [
    {
     "data": {
      "text/html": [
       "<div>\n",
       "<style scoped>\n",
       "    .dataframe tbody tr th:only-of-type {\n",
       "        vertical-align: middle;\n",
       "    }\n",
       "\n",
       "    .dataframe tbody tr th {\n",
       "        vertical-align: top;\n",
       "    }\n",
       "\n",
       "    .dataframe thead th {\n",
       "        text-align: right;\n",
       "    }\n",
       "</style>\n",
       "<table border=\"1\" class=\"dataframe\">\n",
       "  <thead>\n",
       "    <tr style=\"text-align: right;\">\n",
       "      <th></th>\n",
       "      <th>sentence</th>\n",
       "      <th>emotion</th>\n",
       "      <th>label</th>\n",
       "    </tr>\n",
       "  </thead>\n",
       "  <tbody>\n",
       "    <tr>\n",
       "      <th>19994</th>\n",
       "      <td>im having ssa examination tomorrow in the morn...</td>\n",
       "      <td>sadness</td>\n",
       "      <td>stressed</td>\n",
       "    </tr>\n",
       "    <tr>\n",
       "      <th>19995</th>\n",
       "      <td>i constantly worry about their fight against n...</td>\n",
       "      <td>joy</td>\n",
       "      <td>not-stressed</td>\n",
       "    </tr>\n",
       "    <tr>\n",
       "      <th>19996</th>\n",
       "      <td>i feel its important to share this info for th...</td>\n",
       "      <td>joy</td>\n",
       "      <td>not-stressed</td>\n",
       "    </tr>\n",
       "    <tr>\n",
       "      <th>19997</th>\n",
       "      <td>i truly feel that if you are passionate enough...</td>\n",
       "      <td>joy</td>\n",
       "      <td>not-stressed</td>\n",
       "    </tr>\n",
       "    <tr>\n",
       "      <th>19998</th>\n",
       "      <td>i feel like i just wanna buy any cute make up ...</td>\n",
       "      <td>joy</td>\n",
       "      <td>not-stressed</td>\n",
       "    </tr>\n",
       "  </tbody>\n",
       "</table>\n",
       "</div>"
      ],
      "text/plain": [
       "                                                sentence  emotion  \\\n",
       "19994  im having ssa examination tomorrow in the morn...  sadness   \n",
       "19995  i constantly worry about their fight against n...      joy   \n",
       "19996  i feel its important to share this info for th...      joy   \n",
       "19997  i truly feel that if you are passionate enough...      joy   \n",
       "19998  i feel like i just wanna buy any cute make up ...      joy   \n",
       "\n",
       "              label  \n",
       "19994      stressed  \n",
       "19995  not-stressed  \n",
       "19996  not-stressed  \n",
       "19997  not-stressed  \n",
       "19998  not-stressed  "
      ]
     },
     "execution_count": 6,
     "metadata": {},
     "output_type": "execute_result"
    }
   ],
   "source": [
    "df_reidx.tail()"
   ]
  },
  {
   "cell_type": "markdown",
   "id": "6f707f8f",
   "metadata": {},
   "source": [
    "#  Text Preprocessing\n",
    "\n",
    "To clean the sentences,text preprocessing is done.\n",
    "1. Decontracted\n",
    "2. Data cleaning\n",
    "3. Lemmatization"
   ]
  },
  {
   "cell_type": "markdown",
   "id": "1d6c194c",
   "metadata": {},
   "source": [
    "# Decontracted data and Data Cleaning\n",
    "\n",
    "Here we convert the contracted phrases into normal words and then clean the data by removing any html tags, non-alphabetic characters, urls, punctuations and emails."
   ]
  },
  {
   "cell_type": "code",
   "execution_count": 7,
   "id": "cb51a501",
   "metadata": {},
   "outputs": [
    {
     "name": "stderr",
     "output_type": "stream",
     "text": [
      "100%|██████████████████████████████████████████████████████████████████████████| 19999/19999 [00:11<00:00, 1800.65it/s]\n"
     ]
    },
    {
     "data": {
      "text/html": [
       "<div>\n",
       "<style scoped>\n",
       "    .dataframe tbody tr th:only-of-type {\n",
       "        vertical-align: middle;\n",
       "    }\n",
       "\n",
       "    .dataframe tbody tr th {\n",
       "        vertical-align: top;\n",
       "    }\n",
       "\n",
       "    .dataframe thead th {\n",
       "        text-align: right;\n",
       "    }\n",
       "</style>\n",
       "<table border=\"1\" class=\"dataframe\">\n",
       "  <thead>\n",
       "    <tr style=\"text-align: right;\">\n",
       "      <th></th>\n",
       "      <th>sentence</th>\n",
       "      <th>emotion</th>\n",
       "      <th>label</th>\n",
       "      <th>cleaned_sentence</th>\n",
       "    </tr>\n",
       "  </thead>\n",
       "  <tbody>\n",
       "    <tr>\n",
       "      <th>0</th>\n",
       "      <td>i didnt feel humiliated</td>\n",
       "      <td>sadness</td>\n",
       "      <td>stressed</td>\n",
       "      <td>i did not feel humiliated</td>\n",
       "    </tr>\n",
       "    <tr>\n",
       "      <th>1</th>\n",
       "      <td>i can go from feeling so hopeless to so damned...</td>\n",
       "      <td>sadness</td>\n",
       "      <td>stressed</td>\n",
       "      <td>i can go from feeling so hopeless to so damned...</td>\n",
       "    </tr>\n",
       "    <tr>\n",
       "      <th>2</th>\n",
       "      <td>im grabbing a minute to post i feel greedy wrong</td>\n",
       "      <td>anger</td>\n",
       "      <td>stressed</td>\n",
       "      <td>i am grabbing a minute to post i feel greedy w...</td>\n",
       "    </tr>\n",
       "    <tr>\n",
       "      <th>3</th>\n",
       "      <td>i am ever feeling nostalgic about the fireplac...</td>\n",
       "      <td>love</td>\n",
       "      <td>not-stressed</td>\n",
       "      <td>i am ever feeling nostalgic about the fireplac...</td>\n",
       "    </tr>\n",
       "    <tr>\n",
       "      <th>4</th>\n",
       "      <td>i am feeling grouchy</td>\n",
       "      <td>anger</td>\n",
       "      <td>stressed</td>\n",
       "      <td>i am feeling grouchy</td>\n",
       "    </tr>\n",
       "  </tbody>\n",
       "</table>\n",
       "</div>"
      ],
      "text/plain": [
       "                                            sentence  emotion         label  \\\n",
       "0                            i didnt feel humiliated  sadness      stressed   \n",
       "1  i can go from feeling so hopeless to so damned...  sadness      stressed   \n",
       "2   im grabbing a minute to post i feel greedy wrong    anger      stressed   \n",
       "3  i am ever feeling nostalgic about the fireplac...     love  not-stressed   \n",
       "4                               i am feeling grouchy    anger      stressed   \n",
       "\n",
       "                                    cleaned_sentence  \n",
       "0                          i did not feel humiliated  \n",
       "1  i can go from feeling so hopeless to so damned...  \n",
       "2  i am grabbing a minute to post i feel greedy w...  \n",
       "3  i am ever feeling nostalgic about the fireplac...  \n",
       "4                               i am feeling grouchy  "
      ]
     },
     "execution_count": 7,
     "metadata": {},
     "output_type": "execute_result"
    }
   ],
   "source": [
    "from tqdm import tqdm\n",
    "from bs4 import BeautifulSoup\n",
    "\n",
    "def decontracted(phrase):\n",
    "    # specific\n",
    "    phrase = re.sub(r\"wont\", \"will not\", phrase)\n",
    "    phrase = re.sub(r\"wouldnt\", \"would not\", phrase)\n",
    "    phrase = re.sub(r\"shouldnt\", \"should not\", phrase)\n",
    "    phrase = re.sub(r\"couldnt\", \"could not\", phrase)\n",
    "    phrase = re.sub(r\"cudnt\", \"could not\", phrase)\n",
    "    phrase = re.sub(r\"cant\", \"can not\", phrase)\n",
    "    phrase = re.sub(r\"dont\", \"do not\", phrase)\n",
    "    phrase = re.sub(r\"doesnt\", \"does not\", phrase)\n",
    "    phrase = re.sub(r\"didnt\", \"did not\", phrase)\n",
    "    phrase = re.sub(r\"wasnt\", \"was not\", phrase)\n",
    "    phrase = re.sub(r\"werent\", \"were not\", phrase)\n",
    "    phrase = re.sub(r\"havent\", \"have not\", phrase)\n",
    "    phrase = re.sub(r\"hadnt\", \"had not\", phrase)\n",
    "\n",
    "    # general\n",
    "    phrase = re.sub(r\"n\\ t\", \" not\", phrase)\n",
    "    phrase = re.sub(r\"\\ s \", \" is \", phrase) \n",
    "    phrase = re.sub(r\"\\ d \", \" would \", phrase)\n",
    "    phrase = re.sub(r\"\\ ll \", \" will \", phrase)\n",
    "    phrase = re.sub(r\"\\dunno\", \"do not \", phrase)\n",
    "    phrase = re.sub(r\"ive \", \"i have \", phrase)\n",
    "    phrase = re.sub(r\"im \", \"i am \", phrase)\n",
    "    phrase = re.sub(r\"i m \", \"i am \", phrase)\n",
    "    phrase = re.sub(r\" w \", \" with \", phrase)\n",
    "    \n",
    "    return phrase\n",
    "\n",
    "    \n",
    "def clean_text(df):\n",
    "    \"\"\"\n",
    "    Clean the review texts\n",
    "    \"\"\"\n",
    "    cleaned_review = []\n",
    "\n",
    "    for review_text in tqdm(df['sentence']):\n",
    "        \n",
    "        # expand the contracted words\n",
    "        review_text = decontracted(review_text)\n",
    "        #remove html tags\n",
    "        review_text = BeautifulSoup(review_text, 'lxml').get_text().strip() # re.sub(r'<.*?>', '', text)\n",
    "        \n",
    "        #remove non-alphabetic characters\n",
    "        review_text = re.sub(\"[^a-zA-Z]\",\" \", review_text)\n",
    "    \n",
    "        #remove url \n",
    "        review_text = re.sub(r'https?://\\S+|www\\.\\S+', '', review_text)\n",
    "        \n",
    "        #Removing punctutation, string.punctuation in python consists of !\"#$%&\\'()*+,-./:;<=>?@[\\\\]^_{|}~`\n",
    "        review_text = review_text.translate(str.maketrans('', '', string.punctuation))\n",
    "        # ''.join([char for char in movie_text_data if char not in string.punctuation])\n",
    "        \n",
    "        # remove emails\n",
    "        review_text = re.sub(r\"(^[a-zA-Z0-9_.+-]+@[a-zA-Z0-9-]+\\.[a-zA-Z0-9-.]+$)\", '', review_text)\n",
    "    \n",
    "        cleaned_review.append(review_text)\n",
    "\n",
    "    return cleaned_review  \n",
    "\n",
    "df_reidx['cleaned_sentence'] = clean_text(df_reidx)\n",
    "df_reidx.head()  "
   ]
  },
  {
   "cell_type": "markdown",
   "id": "ff8984c8",
   "metadata": {},
   "source": [
    "# Lemmatization\n",
    "\n",
    "Here we group together the different inflected forms of a word so they can be analyzed as a single item."
   ]
  },
  {
   "cell_type": "code",
   "execution_count": 8,
   "id": "8161487a",
   "metadata": {},
   "outputs": [
    {
     "name": "stderr",
     "output_type": "stream",
     "text": [
      "[nltk_data] Downloading package punkt to\n",
      "[nltk_data]     C:\\Users\\DELL\\AppData\\Roaming\\nltk_data...\n",
      "[nltk_data]   Package punkt is already up-to-date!\n",
      "100%|██████████████████████████████████████████████████████████████████████████| 19999/19999 [00:07<00:00, 2805.66it/s]\n"
     ]
    },
    {
     "data": {
      "text/html": [
       "<div>\n",
       "<style scoped>\n",
       "    .dataframe tbody tr th:only-of-type {\n",
       "        vertical-align: middle;\n",
       "    }\n",
       "\n",
       "    .dataframe tbody tr th {\n",
       "        vertical-align: top;\n",
       "    }\n",
       "\n",
       "    .dataframe thead th {\n",
       "        text-align: right;\n",
       "    }\n",
       "</style>\n",
       "<table border=\"1\" class=\"dataframe\">\n",
       "  <thead>\n",
       "    <tr style=\"text-align: right;\">\n",
       "      <th></th>\n",
       "      <th>sentence</th>\n",
       "      <th>emotion</th>\n",
       "      <th>label</th>\n",
       "      <th>cleaned_sentence</th>\n",
       "    </tr>\n",
       "  </thead>\n",
       "  <tbody>\n",
       "    <tr>\n",
       "      <th>0</th>\n",
       "      <td>i didnt feel humiliated</td>\n",
       "      <td>sadness</td>\n",
       "      <td>stressed</td>\n",
       "      <td>[feel, humiliated]</td>\n",
       "    </tr>\n",
       "    <tr>\n",
       "      <th>1</th>\n",
       "      <td>i can go from feeling so hopeless to so damned...</td>\n",
       "      <td>sadness</td>\n",
       "      <td>stressed</td>\n",
       "      <td>[go, feeling, hopeless, damned, hopeful, aroun...</td>\n",
       "    </tr>\n",
       "    <tr>\n",
       "      <th>2</th>\n",
       "      <td>im grabbing a minute to post i feel greedy wrong</td>\n",
       "      <td>anger</td>\n",
       "      <td>stressed</td>\n",
       "      <td>[grabbing, minute, post, feel, greedy, wrong]</td>\n",
       "    </tr>\n",
       "    <tr>\n",
       "      <th>3</th>\n",
       "      <td>i am ever feeling nostalgic about the fireplac...</td>\n",
       "      <td>love</td>\n",
       "      <td>not-stressed</td>\n",
       "      <td>[ever, feeling, nostalgic, fireplace, know, st...</td>\n",
       "    </tr>\n",
       "    <tr>\n",
       "      <th>4</th>\n",
       "      <td>i am feeling grouchy</td>\n",
       "      <td>anger</td>\n",
       "      <td>stressed</td>\n",
       "      <td>[feeling, grouchy]</td>\n",
       "    </tr>\n",
       "  </tbody>\n",
       "</table>\n",
       "</div>"
      ],
      "text/plain": [
       "                                            sentence  emotion         label  \\\n",
       "0                            i didnt feel humiliated  sadness      stressed   \n",
       "1  i can go from feeling so hopeless to so damned...  sadness      stressed   \n",
       "2   im grabbing a minute to post i feel greedy wrong    anger      stressed   \n",
       "3  i am ever feeling nostalgic about the fireplac...     love  not-stressed   \n",
       "4                               i am feeling grouchy    anger      stressed   \n",
       "\n",
       "                                    cleaned_sentence  \n",
       "0                                 [feel, humiliated]  \n",
       "1  [go, feeling, hopeless, damned, hopeful, aroun...  \n",
       "2      [grabbing, minute, post, feel, greedy, wrong]  \n",
       "3  [ever, feeling, nostalgic, fireplace, know, st...  \n",
       "4                                 [feeling, grouchy]  "
      ]
     },
     "execution_count": 8,
     "metadata": {},
     "output_type": "execute_result"
    }
   ],
   "source": [
    "import nltk\n",
    "nltk.download('punkt')\n",
    "def remove_stopwords(phrase):\n",
    "    remove_sw = []\n",
    "    tokenizer = RegexpTokenizer(r'[a-zA-Z0-9]+')\n",
    "    stop_words = stopwords.words('english')\n",
    "    \n",
    "    for review_text in tqdm(phrase):\n",
    "        tokens = word_tokenize(review_text)\n",
    "        tokens = [word for word in tokens if not word in stop_words]\n",
    "        remove_sw.append(tokens)\n",
    "    return remove_sw\n",
    "\n",
    "df_reidx['cleaned_sentence'] = remove_stopwords(df_reidx['cleaned_sentence'])\n",
    "df_reidx.head()"
   ]
  },
  {
   "cell_type": "markdown",
   "id": "af46569a",
   "metadata": {},
   "source": [
    "Converting lemmatized words to sentences"
   ]
  },
  {
   "cell_type": "code",
   "execution_count": 9,
   "id": "e39fca8d",
   "metadata": {},
   "outputs": [
    {
     "name": "stderr",
     "output_type": "stream",
     "text": [
      "100%|████████████████████████████████████████████████████████████████████████| 19999/19999 [00:00<00:00, 563692.04it/s]\n"
     ]
    },
    {
     "data": {
      "text/plain": [
       "0                                      feel humiliated\n",
       "1    go feeling hopeless damned hopeful around some...\n",
       "2               grabbing minute post feel greedy wrong\n",
       "3    ever feeling nostalgic fireplace know still no...\n",
       "4                                      feeling grouchy\n",
       "Name: cleaned_sentence, dtype: object"
      ]
     },
     "execution_count": 9,
     "metadata": {},
     "output_type": "execute_result"
    }
   ],
   "source": [
    "def to_sentence(phrase):\n",
    "    sentence=[]\n",
    "    for words in tqdm(phrase):\n",
    "        sentence.append((\" \").join(words))\n",
    "    return sentence\n",
    "df_reidx['cleaned_sentence']=to_sentence(df_reidx['cleaned_sentence'])\n",
    "df_reidx['cleaned_sentence'].head()"
   ]
  },
  {
   "cell_type": "markdown",
   "id": "e5c97b3b",
   "metadata": {},
   "source": [
    "# Feature Engineering\n",
    "\n",
    "CounterVectorize: tokenization:\n",
    "\n",
    "Here we, separate the text into smaller units called tokens.\n",
    "\n"
   ]
  },
  {
   "cell_type": "code",
   "execution_count": 10,
   "id": "b15a85bf",
   "metadata": {},
   "outputs": [
    {
     "name": "stdout",
     "output_type": "stream",
     "text": [
      "X.shape :  (19999, 5673)\n",
      "y.shape :  (19999,)\n"
     ]
    }
   ],
   "source": [
    "token = RegexpTokenizer(r'[a-zA-Z0-9]+')\n",
    "\n",
    "vectorizer = CountVectorizer(stop_words='english', max_df=0.5, min_df=3, ngram_range=(1,1),tokenizer = token.tokenize)\n",
    "x = vectorizer.fit_transform(df_reidx.cleaned_sentence)\n",
    "y = df_reidx.label.values\n",
    "\n",
    "print(\"X.shape : \",x.shape)\n",
    "print(\"y.shape : \",y.shape)"
   ]
  },
  {
   "cell_type": "markdown",
   "id": "f8ea79b2",
   "metadata": {},
   "source": [
    "# Train Test Split\n",
    "\n",
    "We now separate the dataset into training data and test data.\n",
    "\n",
    "We split the dataset into training and testing values into 70:30 ratio."
   ]
  },
  {
   "cell_type": "code",
   "execution_count": 11,
   "id": "0ea7f47a",
   "metadata": {},
   "outputs": [
    {
     "name": "stdout",
     "output_type": "stream",
     "text": [
      "Number of training examples:13999\n",
      "Number of testing examples:6000\n",
      "\n",
      "Training data: X_train : (13999, 5673), y_train : (13999,)\n",
      "Testing data: X_test : (6000, 5673), y_test : (6000,)\n"
     ]
    }
   ],
   "source": [
    "# do shuffle to make neg and pos data of data set split equaly in the test and training set\n",
    "# do random_sate for making it settle when we run this code repeatedly\n",
    "train_idx, test_idx = train_test_split(np.arange(df_reidx.shape[0]), test_size=0.3,shuffle=True, random_state=42)\n",
    "\n",
    "x_train = x[train_idx]\n",
    "y_train = y[train_idx]\n",
    "\n",
    "x_test = x[test_idx]\n",
    "y_test = y[test_idx]\n",
    "print(\"Number of training examples:{}\".format(len(train_idx)))\n",
    "print(\"Number of testing examples:{}\\n\".format(len(test_idx)))\n",
    "print(\"Training data: X_train : {}, y_train : {}\".format(x_train.shape, y_train.shape))\n",
    "print(\"Testing data: X_test : {}, y_test : {}\".format(x_test.shape, y_test.shape))"
   ]
  },
  {
   "cell_type": "markdown",
   "id": "c4315324",
   "metadata": {},
   "source": [
    "# Model Training\n",
    "\n",
    "Now, our data is ready for training with **Naïve Bayes algorithm**.\n",
    "\n",
    "For this we will be using **Scikit-Learn's** available **MultinomialNB** library to solve our problem.\n"
   ]
  },
  {
   "cell_type": "code",
   "execution_count": 17,
   "id": "1929d403",
   "metadata": {},
   "outputs": [
    {
     "data": {
      "text/plain": [
       "MultinomialNB()"
      ]
     },
     "execution_count": 17,
     "metadata": {},
     "output_type": "execute_result"
    }
   ],
   "source": [
    "mnb = MultinomialNB()\n",
    "mnb.fit(x_train, y_train)"
   ]
  },
  {
   "cell_type": "markdown",
   "id": "49f8358e",
   "metadata": {},
   "source": [
    "# Evaluate Model Performance\n",
    "\n",
    "With the use of different metrics and cross validation tools the model performance is evaluated."
   ]
  },
  {
   "cell_type": "code",
   "execution_count": 18,
   "id": "ec1f2d26",
   "metadata": {},
   "outputs": [
    {
     "name": "stdout",
     "output_type": "stream",
     "text": [
      "              precision    recall  f1-score   support\n",
      "\n",
      "not-stressed       0.94      0.93      0.93      2491\n",
      "    stressed       0.95      0.96      0.95      3509\n",
      "\n",
      "    accuracy                           0.95      6000\n",
      "   macro avg       0.94      0.94      0.94      6000\n",
      "weighted avg       0.95      0.95      0.95      6000\n",
      "\n",
      "\n",
      "Accuracy for multinominal Naive Bayes model: 0.9455\n",
      "\n",
      "\n"
     ]
    },
    {
     "data": {
      "image/png": "[encoded data removed]",
      "text/plain": [
       "<Figure size 432x288 with 2 Axes>"
      ]
     },
     "metadata": {
      "needs_background": "light"
     },
     "output_type": "display_data"
    }
   ],
   "source": [
    "# make prediction on testing data\n",
    "y_pred_test_mnb = mnb.predict(x_test)\n",
    "y_predprob_mnb = mnb.predict_proba(x_test)\n",
    "matrix = confusion_matrix(y_test,y_pred_test_mnb)\n",
    "print(classification_report(y_test, y_pred_test_mnb))\n",
    "print(\"\\nAccuracy for multinominal Naive Bayes model:\",metrics.accuracy_score(y_test, y_pred_test_mnb))\n",
    "print(\"\\n\")\n",
    "\n",
    "y_predict = mnb.predict(x_test)\n",
    "cm = confusion_matrix(y_test, y_predict)\n",
    "cm_display = ConfusionMatrixDisplay(cm).plot()"
   ]
  },
  {
   "cell_type": "markdown",
   "id": "e49c3a92",
   "metadata": {},
   "source": [
    "# Calculating model accuracy\n",
    "\n",
    "Here we view the accuracy of the model for the test and train dataset."
   ]
  },
  {
   "cell_type": "code",
   "execution_count": 13,
   "id": "a6138ade",
   "metadata": {},
   "outputs": [
    {
     "name": "stdout",
     "output_type": "stream",
     "text": [
      "\n",
      "Test Accuracy : 0.946\n",
      "Training Accuracy : 0.973\n"
     ]
    }
   ],
   "source": [
    "y_preds = mnb.predict(x_test)\n",
    "\n",
    "# Score method also evaluates accuracy for classification models.\n",
    "print('\\nTest Accuracy : {:.3f}'.format(mnb.score(x_test, y_test))) \n",
    "print('Training Accuracy : {:.3f}'.format(mnb.score(x_train, y_train)))"
   ]
  },
  {
   "cell_type": "markdown",
   "id": "f16e9f47",
   "metadata": {},
   "source": [
    "#  Explain the model classification\n",
    "\n",
    "Here we use some data to view the prediction of the model."
   ]
  },
  {
   "cell_type": "code",
   "execution_count": 14,
   "id": "04962520",
   "metadata": {},
   "outputs": [
    {
     "name": "stdout",
     "output_type": "stream",
     "text": [
      "['stressed' 'stressed' 'not-stressed' 'stressed' 'not-stressed'\n",
      " 'not-stressed']\n"
     ]
    }
   ],
   "source": [
    "text=['i am not feeling well', 'i feel aaaaaaah', 'i want to live', 'i want to die', 'i feel more creative', 'i feel loved']\n",
    "test_result = mnb.predict(vectorizer.transform(text))\n",
    "print(test_result)"
   ]
  },
  {
   "cell_type": "markdown",
   "id": "89385f7b",
   "metadata": {},
   "source": [
    "# Parameter Tuning (GridSearchCV) - Finding the best parameter for the Naïve Bayes model\n",
    "\n",
    "The MultinomialNB() class contains various parameters among which **alpha** , **fit_prior**, and  **class_prior** are the most important ones.\n",
    "\n",
    "**GridSearchCV** is a Scikit Learn function which compares various contribution of manually defined parameter choices.\n",
    "\n",
    "Using GridSearchCV, we will find the **best performing parameters** of Naïve Bayes model."
   ]
  },
  {
   "cell_type": "code",
   "execution_count": 15,
   "id": "5c55ae06",
   "metadata": {},
   "outputs": [
    {
     "name": "stdout",
     "output_type": "stream",
     "text": [
      "Fitting 5 folds for each of 108 candidates, totalling 540 fits\n",
      "Best Accuracy Through Grid Search : 0.941\n",
      "Best Parameters : {'alpha': 5.0, 'class_prior': [0.5, 0.5], 'fit_prior': True}\n",
      "\n"
     ]
    }
   ],
   "source": [
    "params = {'alpha': [0, 0.1, 0.5, 1.0, 5.0, 10.0, ],\n",
    "          'fit_prior': [True, False],\n",
    "          'class_prior': [[0.1, 0.9], [0.9, 0.1], [0.2, 0.8], [0.8, 0.2], [0.7, 0.3], [0.3, 0.7], [0.6, 0.4], [0.4, 0.6], [0.5, 0.5] ]\n",
    "         }\n",
    "\n",
    "\n",
    "#parameter tuning\n",
    "multinomial_nb_grid = GridSearchCV(MultinomialNB(), param_grid=params, n_jobs=-1, verbose=3)\n",
    "multinomial_nb_grid.fit(x_train,y_train)\n",
    "\n",
    "print('Best Accuracy Through Grid Search : {:.3f}'.format(multinomial_nb_grid.best_score_))\n",
    "print('Best Parameters : {}\\n'.format(multinomial_nb_grid.best_params_))\n"
   ]
  },
  {
   "cell_type": "code",
   "execution_count": 16,
   "id": "13ccdbf2",
   "metadata": {},
   "outputs": [
    {
     "name": "stdout",
     "output_type": "stream",
     "text": [
      "Test Accuracy Score : 0.944\n",
      "Train Accuracy Score : 0.967\n",
      "\n",
      "Classification Report :\n",
      "              precision    recall  f1-score   support\n",
      "\n",
      "not-stressed       0.93      0.93      0.93      2491\n",
      "    stressed       0.95      0.95      0.95      3509\n",
      "\n",
      "    accuracy                           0.94      6000\n",
      "   macro avg       0.94      0.94      0.94      6000\n",
      "weighted avg       0.94      0.94      0.94      6000\n",
      "\n"
     ]
    },
    {
     "data": {
      "image/png": "[encoded data removed]",
      "text/plain": [
       "<Figure size 432x288 with 2 Axes>"
      ]
     },
     "metadata": {
      "needs_background": "light"
     },
     "output_type": "display_data"
    }
   ],
   "source": [
    "y_preds = multinomial_nb_grid.best_estimator_.predict(x_test)\n",
    "y_preds_train = multinomial_nb_grid.best_estimator_.predict(x_train)\n",
    "\n",
    "print(\"Test Accuracy Score : {:.3f}\".format(accuracy_score(y_test, y_preds)))\n",
    "print(\"Train Accuracy Score : {:.3f}\".format(accuracy_score(y_train, y_preds_train)))\n",
    "print(\"\\nClassification Report :\")\n",
    "print(classification_report(y_test, y_preds))\n",
    "\n",
    "cm = confusion_matrix(y_test, y_preds)\n",
    "cm_display = ConfusionMatrixDisplay(cm).plot()"
   ]
  }
 ],
 "metadata": {
  "kernelspec": {
   "display_name": "Python 3 (ipykernel)",
   "language": "python",
   "name": "python3"
  },
  "language_info": {
   "codemirror_mode": {
    "name": "ipython",
    "version": 3
   },
   "file_extension": ".py",
   "mimetype": "text/x-python",
   "name": "python",
   "nbconvert_exporter": "python",
   "pygments_lexer": "ipython3",
   "version": "3.9.12"
  }
 },
 "nbformat": 4,
 "nbformat_minor": 5
}
