{
 "cells": [
  {
   "cell_type": "markdown",
   "id": "272ccddc",
   "metadata": {},
   "source": [
    "# Data Information"
   ]
  },
  {
   "cell_type": "code",
   "execution_count": 228,
   "id": "61d27c66",
   "metadata": {},
   "outputs": [
    {
     "name": "stdout",
     "output_type": "stream",
     "text": [
      "/3Sakshi/AI/20049006 Sakshi Gupta\\20049006 Sakshi Gupta.ipynb\n",
      "/3Sakshi/AI/20049006 Sakshi Gupta\\.ipynb_checkpoints\\20049006 Sakshi Gupta-checkpoint.ipynb\n",
      "/3Sakshi/AI/20049006 Sakshi Gupta\\dataset\\test.txt\n",
      "/3Sakshi/AI/20049006 Sakshi Gupta\\dataset\\train.txt\n",
      "/3Sakshi/AI/20049006 Sakshi Gupta\\dataset\\val.txt\n"
     ]
    },
    {
     "name": "stderr",
     "output_type": "stream",
     "text": [
      "[nltk_data] Downloading package wordnet to\n",
      "[nltk_data]     C:\\Users\\DELL\\AppData\\Roaming\\nltk_data...\n",
      "[nltk_data]   Package wordnet is already up-to-date!\n",
      "[nltk_data] Downloading package stopwords to\n",
      "[nltk_data]     C:\\Users\\DELL\\AppData\\Roaming\\nltk_data...\n",
      "[nltk_data]   Package stopwords is already up-to-date!\n"
     ]
    }
   ],
   "source": [
    "import numpy as np\n",
    "import pandas as pd\n",
    "import matplotlib.pyplot as plt\n",
    "#import math\n",
    "#import mlxtend\n",
    "#import sklearn.cluster as cluster\n",
    "#import sklearn.neighbors\n",
    "import sklearn.metrics as metrics\n",
    "import re\n",
    "from nltk.corpus import stopwords\n",
    "from sklearn.feature_extraction.text import CountVectorizer\n",
    "#from sklearn.metrics.pairwise import cosine_similarity\n",
    "import string\n",
    "from sklearn.metrics import ConfusionMatrixDisplay\n",
    "#from sklearn.linear_model import LogisticRegression\n",
    "from sklearn.model_selection import train_test_split\n",
    "#from sklearn.model_selection import cross_val_score\n",
    "#from sklearn.feature_extraction.text import TfidfTransformer\n",
    "from sklearn.naive_bayes import MultinomialNB\n",
    "from sklearn.metrics import classification_report,confusion_matrix\n",
    "import nltk\n",
    "nltk.download('wordnet')\n",
    "nltk.download('stopwords')\n",
    "from nltk.tokenize import word_tokenize \n",
    "from nltk.tokenize import RegexpTokenizer\n",
    "#import warnings\n",
    "#warnings.filterwarnings('ignore')\n",
    "\n",
    "import os\n",
    "for dirname, _, filenames in os.walk('/3Sakshi/AI/20049006 Sakshi Gupta'):\n",
    "    for filename in filenames:\n",
    "        print(os.path.join(dirname, filename))"
   ]
  },
  {
   "cell_type": "markdown",
   "id": "9a015c3d",
   "metadata": {},
   "source": [
    "# Load and explore dataset"
   ]
  },
  {
   "cell_type": "code",
   "execution_count": 229,
   "id": "3597af19",
   "metadata": {},
   "outputs": [
    {
     "name": "stdout",
     "output_type": "stream",
     "text": [
      "Total data: (20000, 2)\n"
     ]
    }
   ],
   "source": [
    "train_data = pd.read_csv('../20049006 Sakshi Gupta/dataset/train.txt',names=['sentence','emotion'],header=None, sep=';')\n",
    "test_data = pd.read_csv('../20049006 Sakshi Gupta/dataset/test.txt',names=['sentence','emotion'],header=None, sep=';')\n",
    "val_data= pd.read_csv('../20049006 Sakshi Gupta/dataset/val.txt',names=['sentence','emotion'],header=None, sep=';')\n",
    "df = pd.concat([train_data,test_data, val_data])\n",
    "print('Total data:',df.shape)"
   ]
  },
  {
   "cell_type": "code",
   "execution_count": null,
   "id": "3d84b729",
   "metadata": {},
   "outputs": [],
   "source": []
  },
  {
   "cell_type": "code",
   "execution_count": 230,
   "id": "1dde266b",
   "metadata": {},
   "outputs": [
    {
     "data": {
      "text/plain": [
       "(19999, 2)"
      ]
     },
     "execution_count": 230,
     "metadata": {},
     "output_type": "execute_result"
    }
   ],
   "source": [
    "df = df.drop_duplicates(keep=\"first\") # Drop duplicated data and reindex the data\n",
    "df_reidx = df.reset_index(drop=True)\n",
    "df_reidx.shape"
   ]
  },
  {
   "cell_type": "code",
   "execution_count": 231,
   "id": "edd9ca67",
   "metadata": {},
   "outputs": [],
   "source": [
    "# convert the emotions to binary labels. love and joy emotions are \"not-stressed ==1\", and sadness, anger, fear, and surprise are \"stressed == 0\".\n",
    "df_reidx['label']=df_reidx['emotion'].replace({'joy': \"not-stressed\" , 'love': \"not-stressed\", \n",
    "                                   'sadness': \"stressed\", 'anger': \"stressed\", 'fear': \"stressed\",'surprise': \"stressed\"})"
   ]
  },
  {
   "cell_type": "code",
   "execution_count": 232,
   "id": "0ec51bca",
   "metadata": {},
   "outputs": [
    {
     "data": {
      "text/plain": [
       "stressed        11598\n",
       "not-stressed     8401\n",
       "Name: label, dtype: int64"
      ]
     },
     "execution_count": 232,
     "metadata": {},
     "output_type": "execute_result"
    }
   ],
   "source": [
    "# check if pos and neg sentiments\n",
    "df_reidx.label.value_counts()"
   ]
  },
  {
   "cell_type": "code",
   "execution_count": 243,
   "id": "12245250",
   "metadata": {},
   "outputs": [
    {
     "data": {
      "text/plain": [
       "count    19999.000000\n",
       "mean        96.671784\n",
       "std         55.778779\n",
       "min          7.000000\n",
       "25%         53.000000\n",
       "50%         86.000000\n",
       "75%        129.000000\n",
       "max        300.000000\n",
       "Name: length, dtype: float64"
      ]
     },
     "execution_count": 243,
     "metadata": {},
     "output_type": "execute_result"
    }
   ],
   "source": [
    "df_reidx['length'] = df_reidx['sentence'].apply(len) # number of characters\n",
    "df_reidx['length'].describe() # info()"
   ]
  },
  {
   "cell_type": "code",
   "execution_count": 234,
   "id": "5fe248f9",
   "metadata": {},
   "outputs": [
    {
     "data": {
      "text/html": [
       "<div>\n",
       "<style scoped>\n",
       "    .dataframe tbody tr th:only-of-type {\n",
       "        vertical-align: middle;\n",
       "    }\n",
       "\n",
       "    .dataframe tbody tr th {\n",
       "        vertical-align: top;\n",
       "    }\n",
       "\n",
       "    .dataframe thead th {\n",
       "        text-align: right;\n",
       "    }\n",
       "</style>\n",
       "<table border=\"1\" class=\"dataframe\">\n",
       "  <thead>\n",
       "    <tr style=\"text-align: right;\">\n",
       "      <th></th>\n",
       "      <th>sentence</th>\n",
       "      <th>emotion</th>\n",
       "      <th>label</th>\n",
       "    </tr>\n",
       "  </thead>\n",
       "  <tbody>\n",
       "    <tr>\n",
       "      <th>19994</th>\n",
       "      <td>im having ssa examination tomorrow in the morn...</td>\n",
       "      <td>sadness</td>\n",
       "      <td>stressed</td>\n",
       "    </tr>\n",
       "    <tr>\n",
       "      <th>19995</th>\n",
       "      <td>i constantly worry about their fight against n...</td>\n",
       "      <td>joy</td>\n",
       "      <td>not-stressed</td>\n",
       "    </tr>\n",
       "    <tr>\n",
       "      <th>19996</th>\n",
       "      <td>i feel its important to share this info for th...</td>\n",
       "      <td>joy</td>\n",
       "      <td>not-stressed</td>\n",
       "    </tr>\n",
       "    <tr>\n",
       "      <th>19997</th>\n",
       "      <td>i truly feel that if you are passionate enough...</td>\n",
       "      <td>joy</td>\n",
       "      <td>not-stressed</td>\n",
       "    </tr>\n",
       "    <tr>\n",
       "      <th>19998</th>\n",
       "      <td>i feel like i just wanna buy any cute make up ...</td>\n",
       "      <td>joy</td>\n",
       "      <td>not-stressed</td>\n",
       "    </tr>\n",
       "  </tbody>\n",
       "</table>\n",
       "</div>"
      ],
      "text/plain": [
       "                                                sentence  emotion  \\\n",
       "19994  im having ssa examination tomorrow in the morn...  sadness   \n",
       "19995  i constantly worry about their fight against n...      joy   \n",
       "19996  i feel its important to share this info for th...      joy   \n",
       "19997  i truly feel that if you are passionate enough...      joy   \n",
       "19998  i feel like i just wanna buy any cute make up ...      joy   \n",
       "\n",
       "              label  \n",
       "19994      stressed  \n",
       "19995  not-stressed  \n",
       "19996  not-stressed  \n",
       "19997  not-stressed  \n",
       "19998  not-stressed  "
      ]
     },
     "execution_count": 234,
     "metadata": {},
     "output_type": "execute_result"
    }
   ],
   "source": [
    "df_reidx.tail()"
   ]
  },
  {
   "cell_type": "markdown",
   "id": "2c4690bc",
   "metadata": {},
   "source": [
    "# Text Preprocessing\n",
    "To clean the sentences,we do text preprocessing.\n",
    "1. Decontracted\n",
    "2. Data cleaning\n",
    "3. Spell check\n",
    "4. Lemmatization\n",
    "5. Nomalization"
   ]
  },
  {
   "cell_type": "code",
   "execution_count": 235,
   "id": "6f64bb45",
   "metadata": {},
   "outputs": [
    {
     "name": "stderr",
     "output_type": "stream",
     "text": [
      "100%|██████████████████████████████████████████████████████████████████████████| 19999/19999 [00:03<00:00, 5093.76it/s]\n"
     ]
    },
    {
     "data": {
      "text/html": [
       "<div>\n",
       "<style scoped>\n",
       "    .dataframe tbody tr th:only-of-type {\n",
       "        vertical-align: middle;\n",
       "    }\n",
       "\n",
       "    .dataframe tbody tr th {\n",
       "        vertical-align: top;\n",
       "    }\n",
       "\n",
       "    .dataframe thead th {\n",
       "        text-align: right;\n",
       "    }\n",
       "</style>\n",
       "<table border=\"1\" class=\"dataframe\">\n",
       "  <thead>\n",
       "    <tr style=\"text-align: right;\">\n",
       "      <th></th>\n",
       "      <th>sentence</th>\n",
       "      <th>emotion</th>\n",
       "      <th>label</th>\n",
       "      <th>cleaned_sentence</th>\n",
       "    </tr>\n",
       "  </thead>\n",
       "  <tbody>\n",
       "    <tr>\n",
       "      <th>0</th>\n",
       "      <td>i didnt feel humiliated</td>\n",
       "      <td>sadness</td>\n",
       "      <td>stressed</td>\n",
       "      <td>i did not feel humiliated</td>\n",
       "    </tr>\n",
       "    <tr>\n",
       "      <th>1</th>\n",
       "      <td>i can go from feeling so hopeless to so damned...</td>\n",
       "      <td>sadness</td>\n",
       "      <td>stressed</td>\n",
       "      <td>i can go from feeling so hopeless to so damned...</td>\n",
       "    </tr>\n",
       "    <tr>\n",
       "      <th>2</th>\n",
       "      <td>im grabbing a minute to post i feel greedy wrong</td>\n",
       "      <td>anger</td>\n",
       "      <td>stressed</td>\n",
       "      <td>i am grabbing a minute to post i feel greedy w...</td>\n",
       "    </tr>\n",
       "    <tr>\n",
       "      <th>3</th>\n",
       "      <td>i am ever feeling nostalgic about the fireplac...</td>\n",
       "      <td>love</td>\n",
       "      <td>not-stressed</td>\n",
       "      <td>i am ever feeling nostalgic about the fireplac...</td>\n",
       "    </tr>\n",
       "    <tr>\n",
       "      <th>4</th>\n",
       "      <td>i am feeling grouchy</td>\n",
       "      <td>anger</td>\n",
       "      <td>stressed</td>\n",
       "      <td>i am feeling grouchy</td>\n",
       "    </tr>\n",
       "  </tbody>\n",
       "</table>\n",
       "</div>"
      ],
      "text/plain": [
       "                                            sentence  emotion         label  \\\n",
       "0                            i didnt feel humiliated  sadness      stressed   \n",
       "1  i can go from feeling so hopeless to so damned...  sadness      stressed   \n",
       "2   im grabbing a minute to post i feel greedy wrong    anger      stressed   \n",
       "3  i am ever feeling nostalgic about the fireplac...     love  not-stressed   \n",
       "4                               i am feeling grouchy    anger      stressed   \n",
       "\n",
       "                                    cleaned_sentence  \n",
       "0                          i did not feel humiliated  \n",
       "1  i can go from feeling so hopeless to so damned...  \n",
       "2  i am grabbing a minute to post i feel greedy w...  \n",
       "3  i am ever feeling nostalgic about the fireplac...  \n",
       "4                               i am feeling grouchy  "
      ]
     },
     "execution_count": 235,
     "metadata": {},
     "output_type": "execute_result"
    }
   ],
   "source": [
    "from tqdm import tqdm\n",
    "import re\n",
    "from bs4 import BeautifulSoup\n",
    "#from nltk.stem import PorterStemmer\n",
    "#from nltk.stem import WordNetLemmatizer\n",
    "\n",
    "def decontracted(phrase):\n",
    "    \"\"\"\n",
    "    We first define a function to expand the contracted phrase into normal words\n",
    "    \"\"\"\n",
    "    # specific\n",
    "    phrase = re.sub(r\"wont\", \"will not\", phrase)\n",
    "    phrase = re.sub(r\"wouldnt\", \"would not\", phrase)\n",
    "    phrase = re.sub(r\"shouldnt\", \"should not\", phrase)\n",
    "    phrase = re.sub(r\"couldnt\", \"could not\", phrase)\n",
    "    phrase = re.sub(r\"cudnt\", \"could not\", phrase)\n",
    "    phrase = re.sub(r\"cant\", \"can not\", phrase)\n",
    "    phrase = re.sub(r\"dont\", \"do not\", phrase)\n",
    "    phrase = re.sub(r\"doesnt\", \"does not\", phrase)\n",
    "    phrase = re.sub(r\"didnt\", \"did not\", phrase)\n",
    "    phrase = re.sub(r\"wasnt\", \"was not\", phrase)\n",
    "    phrase = re.sub(r\"werent\", \"were not\", phrase)\n",
    "    phrase = re.sub(r\"havent\", \"have not\", phrase)\n",
    "    phrase = re.sub(r\"hadnt\", \"had not\", phrase)\n",
    "\n",
    "    # general\n",
    "    phrase = re.sub(r\"n\\ t\", \" not\", phrase)\n",
    "    #phrase = re.sub(r\"\\re\", \" are\", phrase)\n",
    "    phrase = re.sub(r\"\\ s \", \" is \", phrase) # prime \n",
    "    phrase = re.sub(r\"\\ d \", \" would \", phrase)\n",
    "    phrase = re.sub(r\"\\ ll \", \" will \", phrase)\n",
    "    phrase = re.sub(r\"\\dunno\", \"do not \", phrase)\n",
    "    phrase = re.sub(r\"ive \", \"i have \", phrase)\n",
    "    phrase = re.sub(r\"im \", \"i am \", phrase)\n",
    "    phrase = re.sub(r\"i m \", \"i am \", phrase)\n",
    "    phrase = re.sub(r\" w \", \" with \", phrase)\n",
    "    \n",
    "    return phrase\n",
    "\n",
    "    \n",
    "def clean_text(df):\n",
    "    \"\"\"\n",
    "    Clean the review texts\n",
    "    \"\"\"\n",
    "    cleaned_review = []\n",
    "\n",
    "    for review_text in tqdm(df['sentence']):\n",
    "        \n",
    "        # expand the contracted words\n",
    "        review_text = decontracted(review_text)\n",
    "        #remove html tags\n",
    "        review_text = BeautifulSoup(review_text, 'lxml').get_text().strip() # re.sub(r'<.*?>', '', text)\n",
    "        \n",
    "        #remove non-alphabetic characters\n",
    "        review_text = re.sub(\"[^a-zA-Z]\",\" \", review_text)\n",
    "    \n",
    "        #remove url \n",
    "        review_text = re.sub(r'https?://\\S+|www\\.\\S+', '', review_text)\n",
    "        \n",
    "        #Removing punctutation, string.punctuation in python consists of !\"#$%&\\'()*+,-./:;<=>?@[\\\\]^_{|}~`\n",
    "        review_text = review_text.translate(str.maketrans('', '', string.punctuation))\n",
    "        # ''.join([char for char in movie_text_data if char not in string.punctuation])\n",
    "        \n",
    "        # remove emails\n",
    "        review_text = re.sub(r\"(^[a-zA-Z0-9_.+-]+@[a-zA-Z0-9-]+\\.[a-zA-Z0-9-.]+$)\", '', review_text)\n",
    "    \n",
    "        cleaned_review.append(review_text)\n",
    "\n",
    "    return cleaned_review  \n",
    "\n",
    "df_reidx['cleaned_sentence'] = clean_text(df_reidx)\n",
    "df_reidx.head()  "
   ]
  },
  {
   "cell_type": "code",
   "execution_count": null,
   "id": "f1b4db23",
   "metadata": {},
   "outputs": [],
   "source": []
  },
  {
   "cell_type": "code",
   "execution_count": null,
   "id": "f1c341af",
   "metadata": {},
   "outputs": [],
   "source": []
  },
  {
   "cell_type": "markdown",
   "id": "8d9a7154",
   "metadata": {},
   "source": [
    "# Additional Lemmatization"
   ]
  },
  {
   "cell_type": "code",
   "execution_count": 236,
   "id": "76191ad6",
   "metadata": {
    "scrolled": true
   },
   "outputs": [
    {
     "name": "stderr",
     "output_type": "stream",
     "text": [
      "[nltk_data] Downloading package punkt to\n",
      "[nltk_data]     C:\\Users\\DELL\\AppData\\Roaming\\nltk_data...\n",
      "[nltk_data]   Package punkt is already up-to-date!\n",
      "100%|██████████████████████████████████████████████████████████████████████████| 19999/19999 [00:02<00:00, 8196.81it/s]\n"
     ]
    },
    {
     "data": {
      "text/html": [
       "<div>\n",
       "<style scoped>\n",
       "    .dataframe tbody tr th:only-of-type {\n",
       "        vertical-align: middle;\n",
       "    }\n",
       "\n",
       "    .dataframe tbody tr th {\n",
       "        vertical-align: top;\n",
       "    }\n",
       "\n",
       "    .dataframe thead th {\n",
       "        text-align: right;\n",
       "    }\n",
       "</style>\n",
       "<table border=\"1\" class=\"dataframe\">\n",
       "  <thead>\n",
       "    <tr style=\"text-align: right;\">\n",
       "      <th></th>\n",
       "      <th>sentence</th>\n",
       "      <th>emotion</th>\n",
       "      <th>label</th>\n",
       "      <th>cleaned_sentence</th>\n",
       "    </tr>\n",
       "  </thead>\n",
       "  <tbody>\n",
       "    <tr>\n",
       "      <th>0</th>\n",
       "      <td>i didnt feel humiliated</td>\n",
       "      <td>sadness</td>\n",
       "      <td>stressed</td>\n",
       "      <td>[feel, humiliated]</td>\n",
       "    </tr>\n",
       "    <tr>\n",
       "      <th>1</th>\n",
       "      <td>i can go from feeling so hopeless to so damned...</td>\n",
       "      <td>sadness</td>\n",
       "      <td>stressed</td>\n",
       "      <td>[go, feeling, hopeless, damned, hopeful, aroun...</td>\n",
       "    </tr>\n",
       "    <tr>\n",
       "      <th>2</th>\n",
       "      <td>im grabbing a minute to post i feel greedy wrong</td>\n",
       "      <td>anger</td>\n",
       "      <td>stressed</td>\n",
       "      <td>[grabbing, minute, post, feel, greedy, wrong]</td>\n",
       "    </tr>\n",
       "    <tr>\n",
       "      <th>3</th>\n",
       "      <td>i am ever feeling nostalgic about the fireplac...</td>\n",
       "      <td>love</td>\n",
       "      <td>not-stressed</td>\n",
       "      <td>[ever, feeling, nostalgic, fireplace, know, st...</td>\n",
       "    </tr>\n",
       "    <tr>\n",
       "      <th>4</th>\n",
       "      <td>i am feeling grouchy</td>\n",
       "      <td>anger</td>\n",
       "      <td>stressed</td>\n",
       "      <td>[feeling, grouchy]</td>\n",
       "    </tr>\n",
       "  </tbody>\n",
       "</table>\n",
       "</div>"
      ],
      "text/plain": [
       "                                            sentence  emotion         label  \\\n",
       "0                            i didnt feel humiliated  sadness      stressed   \n",
       "1  i can go from feeling so hopeless to so damned...  sadness      stressed   \n",
       "2   im grabbing a minute to post i feel greedy wrong    anger      stressed   \n",
       "3  i am ever feeling nostalgic about the fireplac...     love  not-stressed   \n",
       "4                               i am feeling grouchy    anger      stressed   \n",
       "\n",
       "                                    cleaned_sentence  \n",
       "0                                 [feel, humiliated]  \n",
       "1  [go, feeling, hopeless, damned, hopeful, aroun...  \n",
       "2      [grabbing, minute, post, feel, greedy, wrong]  \n",
       "3  [ever, feeling, nostalgic, fireplace, know, st...  \n",
       "4                                 [feeling, grouchy]  "
      ]
     },
     "execution_count": 236,
     "metadata": {},
     "output_type": "execute_result"
    }
   ],
   "source": [
    "import nltk\n",
    "nltk.download('punkt')\n",
    "def remove_stopwords(phrase):\n",
    "    remove_sw = []\n",
    "    tokenizer = RegexpTokenizer(r'[a-zA-Z0-9]+')\n",
    "    stop_words = stopwords.words('english')\n",
    "    \n",
    "    for review_text in tqdm(phrase):\n",
    "        tokens = word_tokenize(review_text)\n",
    "        tokens = [word for word in tokens if not word in stop_words]\n",
    "        remove_sw.append(tokens)\n",
    "    return remove_sw\n",
    "\n",
    "df_reidx['cleaned_sentence'] = remove_stopwords(df_reidx['cleaned_sentence'])\n",
    "df_reidx.head()"
   ]
  },
  {
   "cell_type": "markdown",
   "id": "75544714",
   "metadata": {},
   "source": [
    "# Not Stemming"
   ]
  },
  {
   "cell_type": "code",
   "execution_count": 237,
   "id": "4bd3b0ff",
   "metadata": {},
   "outputs": [],
   "source": [
    "#stemming for extract the actual meaning of the words\n",
    "#from nltk.stem import PorterStemmer\n",
    "\n",
    "#def stemming(phrase):\n",
    "#    stemmer = PorterStemmer()\n",
    "#    stem_output=[]\n",
    "#    stemmed=[]\n",
    "#    for review_text in tqdm(phrase):\n",
    "#        stemmed = [stemmer.stem(word) for word in review_text]\n",
    "#        stem_output.append(stemmed)\n",
    "#    return stem_output\n",
    "\n",
    "#df_reidx['cleaned_sentence'] = stemming(df_reidx['cleaned_sentence'])\n",
    "#df_reidx['cleaned_sentence'].head()"
   ]
  },
  {
   "cell_type": "code",
   "execution_count": 238,
   "id": "f62976ed",
   "metadata": {},
   "outputs": [
    {
     "name": "stderr",
     "output_type": "stream",
     "text": [
      "100%|███████████████████████████████████████████████████████████████████████| 19999/19999 [00:00<00:00, 1251221.45it/s]\n"
     ]
    },
    {
     "data": {
      "text/plain": [
       "0                                      feel humiliated\n",
       "1    go feeling hopeless damned hopeful around some...\n",
       "2               grabbing minute post feel greedy wrong\n",
       "3    ever feeling nostalgic fireplace know still no...\n",
       "4                                      feeling grouchy\n",
       "Name: cleaned_sentence, dtype: object"
      ]
     },
     "execution_count": 238,
     "metadata": {},
     "output_type": "execute_result"
    }
   ],
   "source": [
    "def to_sentence(phrase):\n",
    "    sentence=[]\n",
    "    for words in tqdm(phrase):\n",
    "        sentence.append((\" \").join(words))\n",
    "    return sentence\n",
    "df_reidx['cleaned_sentence']=to_sentence(df_reidx['cleaned_sentence'])\n",
    "df_reidx['cleaned_sentence'].head()"
   ]
  },
  {
   "cell_type": "markdown",
   "id": "39c5b27b",
   "metadata": {},
   "source": [
    "# Feature Engineering"
   ]
  },
  {
   "cell_type": "markdown",
   "id": "6a43c2eb",
   "metadata": {},
   "source": [
    "CounterVectorize: tokenization:"
   ]
  },
  {
   "cell_type": "code",
   "execution_count": 239,
   "id": "bc947564",
   "metadata": {},
   "outputs": [
    {
     "name": "stdout",
     "output_type": "stream",
     "text": [
      "X.shape :  (19999, 5673)\n",
      "y.shape :  (19999,)\n"
     ]
    }
   ],
   "source": [
    "token = RegexpTokenizer(r'[a-zA-Z0-9]+')\n",
    "\n",
    "vectorizer = CountVectorizer(stop_words='english', max_df=0.5, min_df=3, ngram_range=(1,1),tokenizer = token.tokenize)\n",
    "x = vectorizer.fit_transform(df_reidx.cleaned_sentence)\n",
    "y = df_reidx.label.values\n",
    "\n",
    "print(\"X.shape : \",x.shape)\n",
    "print(\"y.shape : \",y.shape)"
   ]
  },
  {
   "cell_type": "markdown",
   "id": "a6058a6d",
   "metadata": {},
   "source": [
    "# Train Test Split"
   ]
  },
  {
   "cell_type": "code",
   "execution_count": 240,
   "id": "29bbfac6",
   "metadata": {},
   "outputs": [
    {
     "name": "stdout",
     "output_type": "stream",
     "text": [
      "Number of training examples:13999\n",
      "Number of testing examples:6000\n",
      "\n",
      "Training data: X_train : (13999, 5673), y_train : (13999,)\n",
      "Testing data: X_test : (6000, 5673), y_test : (6000,)\n"
     ]
    }
   ],
   "source": [
    "# do shuffle to make neg and pos data of data set split equaly in the test and training set\n",
    "# do random_sate for making it settle when we run this code repeatedly\n",
    "train_idx, test_idx = train_test_split(np.arange(df_reidx.shape[0]), test_size=0.3,shuffle=True, random_state=42)\n",
    "\n",
    "x_train = x[train_idx]\n",
    "y_train = y[train_idx]\n",
    "\n",
    "x_test = x[test_idx]\n",
    "y_test = y[test_idx]\n",
    "print(\"Number of training examples:{}\".format(len(train_idx)))\n",
    "print(\"Number of testing examples:{}\\n\".format(len(test_idx)))\n",
    "print(\"Training data: X_train : {}, y_train : {}\".format(x_train.shape, y_train.shape))\n",
    "print(\"Testing data: X_test : {}, y_test : {}\".format(x_test.shape, y_test.shape))"
   ]
  },
  {
   "cell_type": "markdown",
   "id": "c2128c21",
   "metadata": {},
   "source": [
    "# Model Training"
   ]
  },
  {
   "cell_type": "markdown",
   "id": "4871f60d",
   "metadata": {},
   "source": [
    "MultinominaliNB\n",
    "\n",
    "It consider a feature vector where a given term represents the number of times it appears or very ofen, such as frequency."
   ]
  },
  {
   "cell_type": "code",
   "execution_count": 241,
   "id": "f0eb5131",
   "metadata": {},
   "outputs": [
    {
     "name": "stdout",
     "output_type": "stream",
     "text": [
      "              precision    recall  f1-score   support\n",
      "\n",
      "not-stressed       0.94      0.93      0.93      2491\n",
      "    stressed       0.95      0.96      0.95      3509\n",
      "\n",
      "    accuracy                           0.95      6000\n",
      "   macro avg       0.94      0.94      0.94      6000\n",
      "weighted avg       0.95      0.95      0.95      6000\n",
      "\n",
      "\n",
      "Accuracy for multinominal Naive Bayes model: 0.9455\n",
      "\n",
      "\n"
     ]
    },
    {
     "data": {
      "image/png": "[encoded data removed]",
      "text/plain": [
       "<Figure size 432x288 with 2 Axes>"
      ]
     },
     "metadata": {
      "needs_background": "light"
     },
     "output_type": "display_data"
    }
   ],
   "source": [
    "mnb = MultinomialNB()\n",
    "mnb.fit(x_train, y_train)\n",
    "# make prediction on testing data\n",
    "y_pred_test_mnb = mnb.predict(x_test)\n",
    "y_predprob_mnb = mnb.predict_proba(x_test)\n",
    "matrix = confusion_matrix(y_test,y_pred_test_mnb)\n",
    "print(classification_report(y_test, y_pred_test_mnb))\n",
    "print(\"\\nAccuracy for multinominal Naive Bayes model:\",metrics.accuracy_score(y_test, y_pred_test_mnb))\n",
    "print(\"\\n\")\n",
    "\n",
    "y_predict = mnb.predict(x_test)\n",
    "cm = confusion_matrix(y_test, y_predict)\n",
    "cm_display = ConfusionMatrixDisplay(cm).plot()"
   ]
  },
  {
   "cell_type": "markdown",
   "id": "de01a7b4",
   "metadata": {},
   "source": [
    "# Explain the model predection"
   ]
  },
  {
   "cell_type": "code",
   "execution_count": 242,
   "id": "3d0bd768",
   "metadata": {},
   "outputs": [
    {
     "name": "stdout",
     "output_type": "stream",
     "text": [
      "['stressed' 'not-stressed' 'stressed' 'not-stressed' 'stressed']\n"
     ]
    }
   ],
   "source": [
    "text=['i am not feeling well', 'i want to make this project better', 'i feel aaaaaaah', 'i want to live', 'i want to die']\n",
    "test_result = mnb.predict(vectorizer.transform(text))\n",
    "print(test_result)"
   ]
  },
  {
   "cell_type": "code",
   "execution_count": null,
   "id": "455b64f2",
   "metadata": {},
   "outputs": [],
   "source": []
  }
 ],
 "metadata": {
  "kernelspec": {
   "display_name": "Python 3 (ipykernel)",
   "language": "python",
   "name": "python3"
  },
  "language_info": {
   "codemirror_mode": {
    "name": "ipython",
    "version": 3
   },
   "file_extension": ".py",
   "mimetype": "text/x-python",
   "name": "python",
   "nbconvert_exporter": "python",
   "pygments_lexer": "ipython3",
   "version": "3.9.12"
  }
 },
 "nbformat": 4,
 "nbformat_minor": 5
}
